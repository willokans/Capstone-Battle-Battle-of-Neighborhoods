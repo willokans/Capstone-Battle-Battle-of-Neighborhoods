{
    "cells": [
        {
            "cell_type": "markdown",
            "metadata": {
                "collapsed": true
            },
            "source": "# Capstone Project - The Battle of Neighborhoods"
        },
        {
            "cell_type": "markdown",
            "metadata": {},
            "source": "This file, and other associated files, make up my contribution to the final Peer Reviewed Assignment for the Coursera Capstone Project for Applied Data Science Capstone. This was my final module in the IBM Data Science Professional Certificate programme.\n\nFor reference I include the original definition for each part of the assignment."
        },
        {
            "cell_type": "markdown",
            "metadata": {},
            "source": "### Part 1 [Week 1]"
        },
        {
            "cell_type": "markdown",
            "metadata": {},
            "source": "Clearly define a problem or an idea of your choice, where you would need to leverage the Foursquare location data to solve or execute. Remember that data science problems always target an audience and are meant to help a group of stakeholders solve a problem, so make sure that you explicitly describe your audience and why they would care about your problem.\n\nThis submission will eventually become your Introduction / Business Problem section in your final report. So I recommend that you push the report (having your Introduction/Business Problem section only for now) to your Github repository and submit a link to it."
        },
        {
            "cell_type": "markdown",
            "metadata": {},
            "source": "### Part 2 [Week 1]"
        },
        {
            "cell_type": "markdown",
            "metadata": {},
            "source": "Describe the data that you will be using to solve the problem or execute your idea. Remember that you will need to use the Foursquare location data to solve the problem or execute your idea. You can absolutely use other datasets in combination with the Foursquare location data. So make sure that you provide adequate explanation and discussion, with examples, of the data that you will be using, even if it is only Foursquare location data.\n\nThis submission will eventually become your Data section in your final report. So I recommend that you push the report (having your Data section) to your Github repository and submit a link to it."
        },
        {
            "cell_type": "markdown",
            "metadata": {},
            "source": "### Part 3 [Week 2]"
        },
        {
            "cell_type": "markdown",
            "metadata": {},
            "source": "In this week, you will continue working on your capstone project. Please remember by the end of this week, you will need to submit the following:\n\nA full report consisting of all of the following components (15 marks):\nIntroduction where you discuss the business problem and who would be interested in this project.\nData where you describe the data that will be used to solve the problem and the source of the data.\nMethodology section which represents the main component of the report where you discuss and describe any exploratory data analysis that you did, any inferential statistical testing that you performed, and what machine learnings were used and why.\nResults section where you discuss the results.\nDiscussion section where you discuss any observations you noted and any recommendations you can make based on the results.\nConclusion section where you conclude the report.\nA link to your Notebook on your Github repository pushed showing your code. (15 marks).\nYour choice of a presentation or blogpost. (10 marks)"
        },
        {
            "cell_type": "markdown",
            "metadata": {},
            "source": "### Section 1: Introduction"
        },
        {
            "cell_type": "markdown",
            "metadata": {},
            "source": "In this section I will clearly define the idea of my choosing, where I leverage the Foursquare location data to solve the imagined business opportunity."
        },
        {
            "cell_type": "markdown",
            "metadata": {},
            "source": "### Background"
        },
        {
            "cell_type": "markdown",
            "metadata": {},
            "source": "There are 100's, maybe even 1000's, of travel sites on the Internet, including FourSquare, that will tell you all about places to go, things to see, restaurants to eat at, bars to drink in, nightclubs to part the night away in and then where to go in the morning to get breakfast and a strong coffee. The problems with these sites is that they are one dimensional. If you want to find out all this information about a city you plan to visit next month, you have to do the hard work. Also, just because a venue is the hottest place to go for a night out does not always mean that the unwitting tourist should just ramble in unprepared. The areas surrounding this new venue might be riddled with crime including muggings, car theft and assault, for example. Approach the venue from any direction other than from the north and you could be putting your life in danger. This is when my idea comes in."
        },
        {
            "cell_type": "markdown",
            "metadata": {},
            "source": "Imagine the following scenario:"
        },
        {
            "cell_type": "markdown",
            "metadata": {},
            "source": "- You like to plan ahead and always review your options and make your choices about where you will visit and eat up front before you travel.\n- You are flying to Chicogo for a Data Science Conference.\n- You arrive in Chicago the day the conference starts but you've managed to convince your boss to delay your return by a few days giving you time to explore.\n- But you know no one in Chicago to show you around to all the top sites and to bring you to the best restaurants.\n- Also the last time you went to a conference you were mugged and had you passport. money and credit cards stolen so you're now nervous of going somewhere without first researching the venue and the surrounding area.\n- The conference is next week and you don't have time to do all the research you'd like."
        },
        {
            "cell_type": "markdown",
            "metadata": {},
            "source": "What do you do ... ?"
        }
    ],
    "metadata": {
        "kernelspec": {
            "display_name": "Python 3.6",
            "language": "python",
            "name": "python3"
        },
        "language_info": {
            "codemirror_mode": {
                "name": "ipython",
                "version": 3
            },
            "file_extension": ".py",
            "mimetype": "text/x-python",
            "name": "python",
            "nbconvert_exporter": "python",
            "pygments_lexer": "ipython3",
            "version": "3.6.9"
        }
    },
    "nbformat": 4,
    "nbformat_minor": 1
}