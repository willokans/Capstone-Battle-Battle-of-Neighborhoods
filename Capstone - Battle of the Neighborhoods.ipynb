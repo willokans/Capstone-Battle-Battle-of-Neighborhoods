{
    "cells": [
        {
            "cell_type": "markdown",
            "metadata": {
                "collapsed": true
            },
            "source": "# Capstone Project - The Battle of Neighborhoods"
        },
        {
            "cell_type": "markdown",
            "metadata": {},
            "source": "This file, and other associated files, make up my contribution to the final Peer Reviewed Assignment for the Coursera Capstone Project for Applied Data Science Capstone. This was my final module in the IBM Data Science Professional Certificate programme.\n\nFor reference I include the original definition for each part of the assignment."
        },
        {
            "cell_type": "markdown",
            "metadata": {},
            "source": "### Part 1 [Week 1]"
        },
        {
            "cell_type": "markdown",
            "metadata": {},
            "source": "Clearly define a problem or an idea of your choice, where you would need to leverage the Foursquare location data to solve or execute. Remember that data science problems always target an audience and are meant to help a group of stakeholders solve a problem, so make sure that you explicitly describe your audience and why they would care about your problem.\n\nThis submission will eventually become your Introduction / Business Problem section in your final report. So I recommend that you push the report (having your Introduction/Business Problem section only for now) to your Github repository and submit a link to it."
        },
        {
            "cell_type": "markdown",
            "metadata": {},
            "source": "### Part 2 [Week 1]"
        },
        {
            "cell_type": "markdown",
            "metadata": {},
            "source": "Describe the data that you will be using to solve the problem or execute your idea. Remember that you will need to use the Foursquare location data to solve the problem or execute your idea. You can absolutely use other datasets in combination with the Foursquare location data. So make sure that you provide adequate explanation and discussion, with examples, of the data that you will be using, even if it is only Foursquare location data.\n\nThis submission will eventually become your Data section in your final report. So I recommend that you push the report (having your Data section) to your Github repository and submit a link to it."
        },
        {
            "cell_type": "markdown",
            "metadata": {},
            "source": "### Part 3 [Week 2]"
        },
        {
            "cell_type": "markdown",
            "metadata": {},
            "source": "In this week, you will continue working on your capstone project. Please remember by the end of this week, you will need to submit the following:\n\nA full report consisting of all of the following components (15 marks):\nIntroduction where you discuss the business problem and who would be interested in this project.\nData where you describe the data that will be used to solve the problem and the source of the data.\nMethodology section which represents the main component of the report where you discuss and describe any exploratory data analysis that you did, any inferential statistical testing that you performed, and what machine learnings were used and why.\nResults section where you discuss the results.\nDiscussion section where you discuss any observations you noted and any recommendations you can make based on the results.\nConclusion section where you conclude the report.\nA link to your Notebook on your Github repository pushed showing your code. (15 marks).\nYour choice of a presentation or blogpost. (10 marks)"
        },
        {
            "cell_type": "markdown",
            "metadata": {},
            "source": "### Section 1: Introduction"
        },
        {
            "cell_type": "markdown",
            "metadata": {},
            "source": "In this section I will clearly define the idea of my choosing, where I leverage the Foursquare location data to solve the imagined business opportunity."
        },
        {
            "cell_type": "markdown",
            "metadata": {},
            "source": "### Background"
        },
        {
            "cell_type": "markdown",
            "metadata": {},
            "source": "There are 100's, maybe even 1000's, of travel sites on the Internet, including FourSquare, that will tell you all about places to go, things to see, restaurants to eat at, bars to drink in, nightclubs to part the night away in and then where to go in the morning to get breakfast and a strong coffee. The problems with these sites is that they are one dimensional. If you want to find out all this information about a city you plan to visit next month, you have to do the hard work. Also, just because a venue is the hottest place to go for a night out does not always mean that the unwitting tourist should just ramble in unprepared. The areas surrounding this new venue might be riddled with crime including muggings, car theft and assault, for example. Approach the venue from any direction other than from the north and you could be putting your life in danger. This is when my idea comes in."
        },
        {
            "cell_type": "markdown",
            "metadata": {},
            "source": "Imagine the following scenario:"
        },
        {
            "cell_type": "markdown",
            "metadata": {},
            "source": "- You like to plan ahead and always review your options and make your choices about where you will visit and eat up front before you travel.\n- You are flying to Chicogo for a Data Science Conference.\n- You arrive in Chicago the day the conference starts but you've managed to convince your boss to delay your return by a few days giving you time to explore.\n- But you know no one in Chicago to show you around to all the top sites and to bring you to the best restaurants.\n- Also the last time you went to a conference you were mugged and had you passport. money and credit cards stolen so you're now nervous of going somewhere without first researching the venue and the surrounding area.\n- The conference is next week and you don't have time to do all the research you'd like."
        },
        {
            "cell_type": "markdown",
            "metadata": {},
            "source": "What do you do ... ?"
        },
        {
            "cell_type": "markdown",
            "metadata": {},
            "source": "## Project"
        },
        {
            "cell_type": "markdown",
            "metadata": {},
            "source": "### Indroduction"
        },
        {
            "cell_type": "markdown",
            "metadata": {},
            "source": "#### Description & Disscusing of the Background"
        },
        {
            "cell_type": "markdown",
            "metadata": {},
            "source": "My Capstone Project will be using the city of New York to show that when driven by venue and location data from FourSquare, it is possible to present potentail house renters and buying with a list of attractive areas to rent or buy from. Using graphics to show locations availability of attractive social amenities like school, resturants e.t.c."
        },
        {
            "cell_type": "markdown",
            "metadata": {},
            "source": "New York City's demographic show that it is a large and ethnically diverse metropolis, It is the larges city in the United States and the 10th largest city in the world by population. New York city has a long history of international immigration with neary 8.5 million people in 2014, accounting for over 40% of the population of New York State. Over the last decade the city has been growing faster than the region and one of the many reason for this is that New York City has been a major point of entry for immigration: the team \"melting pot\" was coined to describe densely pupolated immigration neighborhoods on the Lower East Side.\n\nWith the influx of immigrants, comes the increase in the need to rent or buy property in the City. "
        },
        {
            "cell_type": "markdown",
            "metadata": {},
            "source": "This project will focus on listing and visualizing all major part of New York City that has some essential socail amenities like school, hospital taken into consideration by families when moving into a new Neighborhoods"
        },
        {
            "cell_type": "markdown",
            "metadata": {},
            "source": "### Data Description"
        },
        {
            "cell_type": "markdown",
            "metadata": {},
            "source": "In order to acheive the this project, we will be using the below data source"
        },
        {
            "cell_type": "markdown",
            "metadata": {},
            "source": "- New York City data that contains list Boroughs, Neighborhoods along with their latitude and longitude. Data source : https://cocl.us/new_york_dataset Description : This data set contains the required information. And we will use this data set to explore various neighborhoods of new york city. \n- Social amenities in each neighborhood of new york city. Data source : Fousquare API Description : By using this api we will get all the venues in each neighborhood. \n- We can filter these venues to get the type and number of social amenities like schools and hospital in each Boroughs. \n- GeoSpace data Data source : https://data.cityofnewyork.us/City-Government/Borough-Boundaries/tqmj-j8zm Description : By using this geo space data we will get the New york Borough boundaries that will help us visualize choropleth map."
        },
        {
            "cell_type": "markdown",
            "metadata": {},
            "source": "### Approach"
        },
        {
            "cell_type": "markdown",
            "metadata": {},
            "source": "- Use an open source New York City dataset from https://cocl.us/new_york_dataset \n- User FourSqure API to explore the boroughs and segment them.\n- Using FourSquare api to query venue for each neighborhood.\n- Filter out FourSquare api result by social amenities like Hospital and school\n- Rate each neighborhood based of the number of amenities\n- Use python folium library to visualize geographic details of each neighborhood based on it's rating"
        },
        {
            "cell_type": "markdown",
            "metadata": {},
            "source": "### Analysis"
        },
        {
            "cell_type": "markdown",
            "metadata": {},
            "source": "#### Required Libraries"
        },
        {
            "cell_type": "markdown",
            "metadata": {},
            "source": "- pandas and numpy for handling data.\n- request module for using FourSquare API.\n- geopy to get co-ordinates of City of New York.\n- Python folium to visualize the results on a map"
        },
        {
            "cell_type": "code",
            "execution_count": null,
            "metadata": {},
            "outputs": [],
            "source": "!conda install -c conda-forge folium=0.5.0 --yes\nprint('folium intalled')\n!conda install -c conda-forge geocoder\nprint('geocoder intalled')\n\nimport pandas as pd\nimport numpy as np\npd.set_option('display.max_columns', None)\npd.set_option('display.max_rows', None)\nimport requests\nimport sys\nfrom bs4 import BeautifulSoup\nimport geocoder\nimport os\nimport folium # map rendering library\nfrom geopy.geocoders import Nominatim \nimport matplotlib.pyplot as plt\nimport matplotlib.cm as cm\nimport matplotlib.colors as colors\n%matplotlib inline\n\n\nprint('Libraries imported.')"
        },
        {
            "cell_type": "code",
            "execution_count": null,
            "metadata": {},
            "outputs": [],
            "source": "def geo_location(address):\n    # get geo location of address\n    geolocator = Nominatim(user_agent=\"ny_explorer\")\n    location = geolocator.geocode(address)\n    latitude = location.latitude\n    longitude = location.longitude\n    return latitude,longitude"
        },
        {
            "cell_type": "code",
            "execution_count": null,
            "metadata": {},
            "outputs": [],
            "source": ""
        }
    ],
    "metadata": {
        "kernelspec": {
            "display_name": "Python 3.6",
            "language": "python",
            "name": "python3"
        },
        "language_info": {
            "codemirror_mode": {
                "name": "ipython",
                "version": 3
            },
            "file_extension": ".py",
            "mimetype": "text/x-python",
            "name": "python",
            "nbconvert_exporter": "python",
            "pygments_lexer": "ipython3",
            "version": "3.6.9"
        }
    },
    "nbformat": 4,
    "nbformat_minor": 1
}