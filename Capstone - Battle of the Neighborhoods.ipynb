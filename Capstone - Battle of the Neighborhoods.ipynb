{
    "cells": [
        {
            "cell_type": "markdown",
            "metadata": {
                "collapsed": true
            },
            "source": "# Capstone Project - The Battle of Neighborhoods"
        },
        {
            "cell_type": "markdown",
            "metadata": {},
            "source": "This file, and other associated files, make up my contribution to the final Peer Reviewed Assignment for the Coursera Capstone Project for Applied Data Science Capstone. This was my final module in the IBM Data Science Professional Certificate programme.\n\nFor reference I include the original definition for each part of the assignment."
        },
        {
            "cell_type": "markdown",
            "metadata": {},
            "source": "### Part 1 [Week 1]"
        },
        {
            "cell_type": "markdown",
            "metadata": {},
            "source": "Clearly define a problem or an idea of your choice, where you would need to leverage the Foursquare location data to solve or execute. Remember that data science problems always target an audience and are meant to help a group of stakeholders solve a problem, so make sure that you explicitly describe your audience and why they would care about your problem.\n\nThis submission will eventually become your Introduction / Business Problem section in your final report. So I recommend that you push the report (having your Introduction/Business Problem section only for now) to your Github repository and submit a link to it."
        },
        {
            "cell_type": "markdown",
            "metadata": {},
            "source": "### Part 2 [Week 1]"
        },
        {
            "cell_type": "markdown",
            "metadata": {},
            "source": "Describe the data that you will be using to solve the problem or execute your idea. Remember that you will need to use the Foursquare location data to solve the problem or execute your idea. You can absolutely use other datasets in combination with the Foursquare location data. So make sure that you provide adequate explanation and discussion, with examples, of the data that you will be using, even if it is only Foursquare location data.\n\nThis submission will eventually become your Data section in your final report. So I recommend that you push the report (having your Data section) to your Github repository and submit a link to it."
        },
        {
            "cell_type": "markdown",
            "metadata": {},
            "source": "### Part 3 [Week 2]"
        },
        {
            "cell_type": "markdown",
            "metadata": {},
            "source": "In this week, you will continue working on your capstone project. Please remember by the end of this week, you will need to submit the following:\n\nA full report consisting of all of the following components (15 marks):\nIntroduction where you discuss the business problem and who would be interested in this project.\nData where you describe the data that will be used to solve the problem and the source of the data.\nMethodology section which represents the main component of the report where you discuss and describe any exploratory data analysis that you did, any inferential statistical testing that you performed, and what machine learnings were used and why.\nResults section where you discuss the results.\nDiscussion section where you discuss any observations you noted and any recommendations you can make based on the results.\nConclusion section where you conclude the report.\nA link to your Notebook on your Github repository pushed showing your code. (15 marks).\nYour choice of a presentation or blogpost. (10 marks)"
        },
        {
            "cell_type": "markdown",
            "metadata": {},
            "source": "### Section 1: Introduction"
        },
        {
            "cell_type": "markdown",
            "metadata": {},
            "source": "In this section I will clearly define the idea of my choosing, where I leverage the Foursquare location data to solve the imagined business opportunity."
        },
        {
            "cell_type": "markdown",
            "metadata": {},
            "source": "### Background"
        },
        {
            "cell_type": "markdown",
            "metadata": {},
            "source": "There are 100's, maybe even 1000's, of travel sites on the Internet, including FourSquare, that will tell you all about places to go, things to see, restaurants to eat at, bars to drink in, nightclubs to part the night away in and then where to go in the morning to get breakfast and a strong coffee. The problems with these sites is that they are one dimensional. If you want to find out all this information about a city you plan to visit next month, you have to do the hard work. Also, just because a venue is the hottest place to go for a night out does not always mean that the unwitting tourist should just ramble in unprepared. The areas surrounding this new venue might be riddled with crime including muggings, car theft and assault, for example. Approach the venue from any direction other than from the north and you could be putting your life in danger. This is when my idea comes in."
        },
        {
            "cell_type": "markdown",
            "metadata": {},
            "source": "Imagine the following scenario:"
        },
        {
            "cell_type": "markdown",
            "metadata": {},
            "source": "- You like to plan ahead and always review your options and make your choices about where you will visit and eat up front before you travel.\n- You are flying to Chicogo for a Data Science Conference.\n- You arrive in Chicago the day the conference starts but you've managed to convince your boss to delay your return by a few days giving you time to explore.\n- But you know no one in Chicago to show you around to all the top sites and to bring you to the best restaurants.\n- Also the last time you went to a conference you were mugged and had you passport. money and credit cards stolen so you're now nervous of going somewhere without first researching the venue and the surrounding area.\n- The conference is next week and you don't have time to do all the research you'd like."
        },
        {
            "cell_type": "markdown",
            "metadata": {},
            "source": "What do you do ... ?"
        },
        {
            "cell_type": "markdown",
            "metadata": {},
            "source": "## Project"
        },
        {
            "cell_type": "markdown",
            "metadata": {},
            "source": "### Indroduction"
        },
        {
            "cell_type": "markdown",
            "metadata": {},
            "source": "#### Description & Disscusing of the Background"
        },
        {
            "cell_type": "markdown",
            "metadata": {},
            "source": "My Capstone Project will be using the city of New York to show that when driven by venue and location data from FourSquare, it is possible to present potentail house renters and buying with a list of attractive areas to rent or buy from. Using graphics to show locations availability of attractive social amenities like school, resturants e.t.c."
        },
        {
            "cell_type": "markdown",
            "metadata": {},
            "source": "New York City's demographic show that it is a large and ethnically diverse metropolis, It is the larges city in the United States and the 10th largest city in the world by population. New York city has a long history of international immigration with neary 8.5 million people in 2014, accounting for over 40% of the population of New York State. Over the last decade the city has been growing faster than the region and one of the many reason for this is that New York City has been a major point of entry for immigration: the team \"melting pot\" was coined to describe densely pupolated immigration neighborhoods on the Lower East Side.\n\nWith the influx of immigrants, comes the increase in the need to rent or buy property in the City. "
        },
        {
            "cell_type": "markdown",
            "metadata": {},
            "source": "This project will focus on listing and visualizing all major part of New York City that has some essential socail amenities like school, hospital taken into consideration by families when moving into a new Neighborhoods"
        },
        {
            "cell_type": "markdown",
            "metadata": {},
            "source": "### Data Description"
        },
        {
            "cell_type": "markdown",
            "metadata": {},
            "source": "In order to acheive the this project, we will be using the below data source"
        },
        {
            "cell_type": "markdown",
            "metadata": {},
            "source": "- New York City data that contains list Boroughs, Neighborhoods along with their latitude and longitude. Data source : https://cocl.us/new_york_dataset Description : This data set contains the required information. And we will use this data set to explore various neighborhoods of new york city. \n- Social amenities in each neighborhood of new york city. Data source : Fousquare API Description : By using this api we will get all the venues in each neighborhood. \n- We can filter these venues to get the type and number of social amenities like schools and hospital in each Boroughs. \n- GeoSpace data Data source : https://data.cityofnewyork.us/City-Government/Borough-Boundaries/tqmj-j8zm Description : By using this geo space data we will get the New york Borough boundaries that will help us visualize choropleth map."
        },
        {
            "cell_type": "markdown",
            "metadata": {},
            "source": "Neighborhood has a total of 5 boroughs and 306 neighborhoods. In order to segement the neighborhoods and explore them, we will essentially need a dataset that contains the 5 boroughs and the neighborhoods that exist in each borough as well as the the latitude and logitude coordinates of each neighborhood."
        },
        {
            "cell_type": "markdown",
            "metadata": {},
            "source": "### Approach"
        },
        {
            "cell_type": "markdown",
            "metadata": {},
            "source": "- Use an open source New York City dataset from https://cocl.us/new_york_dataset \n- User FourSqure API to explore the boroughs and segment them.\n- Using FourSquare api to query venue for each neighborhood.\n- Filter out FourSquare api result by social amenities like Hospital and school\n- Rate each neighborhood based of the number of amenities\n- Use python folium library to visualize geographic details of each neighborhood based on it's rating"
        },
        {
            "cell_type": "markdown",
            "metadata": {},
            "source": "### Analysis"
        },
        {
            "cell_type": "markdown",
            "metadata": {},
            "source": "#### Required Libraries"
        },
        {
            "cell_type": "markdown",
            "metadata": {},
            "source": "- pandas and numpy for handling data.\n- request module for using FourSquare API.\n- geopy to get co-ordinates of City of New York.\n- Python folium to visualize the results on a map"
        },
        {
            "cell_type": "code",
            "execution_count": 2,
            "metadata": {
                "scrolled": true
            },
            "outputs": [
                {
                    "ename": "SyntaxError",
                    "evalue": "invalid syntax (<ipython-input-2-f7bab2edec9c>, line 9)",
                    "output_type": "error",
                    "traceback": [
                        "\u001b[0;36m  File \u001b[0;32m\"<ipython-input-2-f7bab2edec9c>\"\u001b[0;36m, line \u001b[0;32m9\u001b[0m\n\u001b[0;31m    pip install folium=0.5.0\u001b[0m\n\u001b[0m              ^\u001b[0m\n\u001b[0;31mSyntaxError\u001b[0m\u001b[0;31m:\u001b[0m invalid syntax\n"
                    ]
                }
            ],
            "source": "import numpy as np # library to handle data in a vectorized manner\nimport pandas as pd # library for data analsysis\npd.set_option('display.max_columns', None)\npd.set_option('display.max_rows', None)\n\nimport json # library to handle JSON files\n# !conda install -c conda-forge geopy --yes # uncomment this line if you haven't completed the Foursquare API lab\n# !conda install -c conda-forge folium=0.5.0 --yes\npip install folium=0.5.0\n\nimport requests # library to handle requests\n\n# Matplotlib and associated plotting modules\nimport matplotlib.cm as cm\nimport matplotlib.colors as colors\n\n# !conda install -c conda-forge folium=0.5.0 --yes\nimport folium # map rendering library\n\nimport lxml\n\n# import k-means from clustering stage\nfrom sklearn.cluster import KMeans\n\nfrom geopy.geocoders import Nominatim # convert an address into latitude and longitude values\nfrom pandas.io.json import json_normalize # tranform JSON file into a pandas dataframe\nfrom sklearn.datasets.samples_generator import make_blobs\nfrom bs4 import BeautifulSoup\n# !conda install -c conda-forge geopy --yes\n\nprint('Libraries imported.')"
        },
        {
            "cell_type": "markdown",
            "metadata": {},
            "source": "####\u00a0Get geocode location of address"
        },
        {
            "cell_type": "code",
            "execution_count": null,
            "metadata": {},
            "outputs": [],
            "source": "def geo_location(address):\n    geolocator = Nominatim(user_agent=\"ny_explorer\")\n    location = geolocator.geocode(address)\n    latitude = location.latitude\n    longitude = location.longitude\n    return latitude,longitude"
        },
        {
            "cell_type": "markdown",
            "metadata": {},
            "source": "#### Interact with FourSqure API"
        },
        {
            "cell_type": "code",
            "execution_count": null,
            "metadata": {},
            "outputs": [],
            "source": "def get_venues(lat,lng):\n    \n    #set variables\n    radius=1000\n    LIMIT=100\n    CLIENT_ID = 'PG2FNOSIELJIMK1XBT3CM4XANGBPZLJRXFBVB45DQSWOBJIP' # changed my Foursquare ID\n    CLIENT_SECRET = 'WXOBKAKTBO4DYMZ1RF0V5W4TD5R5RFPROADL2RKDGRWHQ3X0' # changed Foursquare Secret\n    VERSION = '20180605' # Foursquare API version\n    \n    #url to fetch data from foursquare api\n    url = 'https://api.foursquare.com/v2/venues/explore?&client_id={}&client_secret={}&v={}&ll={},{}&radius={}&limit={}'.format(\n            CLIENT_ID, \n            CLIENT_SECRET, \n            VERSION, \n            lat, \n            lng, \n            radius, \n            LIMIT)\n    \n    # get all the data\n    results = requests.get(url).json()\n    print(results)\n    venue_data=results[\"response\"]['groups'][0]['items']\n    venue_details=[]\n    for row in venue_data:\n        try:\n            venue_id=row['venue']['id']\n            venue_name=row['venue']['name']\n            venue_category=row['venue']['categories'][0]['name']\n            venue_details.append([venue_id,venue_name,venue_category])\n        except KeyError:\n            pass\n        \n    column_names=['ID','Name','Category']\n    df = pd.DataFrame(venue_details,columns=column_names)\n    print(\"done\")\n    return df"
        },
        {
            "cell_type": "code",
            "execution_count": null,
            "metadata": {},
            "outputs": [],
            "source": "\ndef get_venue_details(venue_id):\n        \n    CLIENT_ID = 'PG2FNOSIELJIMK1XBT3CM4XANGBPZLJRXFBVB45DQSWOBJIP' # i have changed the id with ##\n    CLIENT_SECRET = 'WXOBKAKTBO4DYMZ1RF0V5W4TD5R5RFPROADL2RKDGRWHQ3X0' # i have changed the secret with ##\n    VERSION = '20180605' # Foursquare API version\n    \n    #url to fetch data from foursquare api\n    url = 'https://api.foursquare.com/v2/venues/{}?&client_id={}&client_secret={}&v={}'.format(\n            venue_id,\n            CLIENT_ID, \n            CLIENT_SECRET, \n            VERSION)\n    \n    # get all the data\n    results = requests.get(url).json()\n    venue_data=results['response']['venue']\n    venue_details=[]\n    try:\n        venue_id=venue_data['id']\n        venue_name=venue_data['name']\n        venue_likes=venue_data['likes']['count']\n        venue_rating=venue_data['rating']\n        venue_tips=venue_data['tips']['count']\n        venue_details.append([venue_id,venue_name,venue_likes,venue_rating,venue_tips])\n    except KeyError:\n        pass\n        \n    column_names=['ID','Name','Likes','Rating','Tips']\n    df = pd.DataFrame(venue_details,columns=column_names)\n    return df"
        },
        {
            "cell_type": "markdown",
            "metadata": {},
            "source": "Now we define a funtion to get the new york city data such as Boroughs, Neighborhoods along with their latitude and longitude."
        },
        {
            "cell_type": "code",
            "execution_count": null,
            "metadata": {},
            "outputs": [],
            "source": "import requests # library to handle requests\nimport pandas as pd # library for data analsysis\n\ndef get_new_york_data():\n    url='https://cocl.us/new_york_dataset'\n    resp=requests.get(url).json()\n    # all data is present in features label\n    features=resp['features']\n    \n    # define the dataframe columns\n    column_names = ['Borough', 'Neighborhood', 'Latitude', 'Longitude'] \n    # instantiate the dataframe\n    new_york_data = pd.DataFrame(columns=column_names)\n    \n    for data in features:\n        borough = data['properties']['borough'] \n        neighborhood_name = data['properties']['name']\n        \n        neighborhood_latlon = data['geometry']['coordinates']\n        neighborhood_lat = neighborhood_latlon[1]\n        neighborhood_lon = neighborhood_latlon[0]\n    \n        new_york_data = new_york_data.append({'Borough': borough,\n                                          'Neighborhood': neighborhood_name,\n                                          'Latitude': neighborhood_lat,\n                                          'Longitude': neighborhood_lon}, ignore_index=True)\n    \n    return new_york_data"
        },
        {
            "cell_type": "markdown",
            "metadata": {},
            "source": "Get new york data"
        },
        {
            "cell_type": "code",
            "execution_count": null,
            "metadata": {},
            "outputs": [],
            "source": "new_york_data=get_new_york_data()\nnew_york_data.head()"
        },
        {
            "cell_type": "code",
            "execution_count": null,
            "metadata": {},
            "outputs": [],
            "source": "new_york_data.shape"
        },
        {
            "cell_type": "markdown",
            "metadata": {},
            "source": "So there are total of 306 different Neighborhoods in New York"
        },
        {
            "cell_type": "code",
            "execution_count": null,
            "metadata": {},
            "outputs": [],
            "source": "import matplotlib.pyplot as plt\nplt.figure(figsize=(9,5), dpi = 100)\n# title\nplt.title('Number of Neighborhood for each Borough in New York City')\n#On x-axis\nplt.xlabel('Borough', fontsize = 15)\n#On y-axis\nplt.ylabel('No.of Neighborhood', fontsize=15)\n#giving a bar plot\nnew_york_data.groupby('Borough')['Neighborhood'].count().plot(kind='bar')\n#legend\nplt.legend()\n#displays the plot\nplt.show()"
        },
        {
            "cell_type": "markdown",
            "metadata": {},
            "source": "Get the number of high school for each Neighborhood"
        },
        {
            "cell_type": "code",
            "execution_count": null,
            "metadata": {},
            "outputs": [],
            "source": "# prepare neighborhood list filtered by high schools & Universities\ncolumn_names=['Borough', 'Neighborhood', 'ID','Name']\nschools_ny=pd.DataFrame(columns=column_names)\ncount=1\nfor row in new_york_data.values.tolist():\n    Borough, Neighborhood, Latitude, Longitude=row\n    venues = get_venues(Latitude,Longitude)\n    schools=venues[venues['Category']=='education']   \n    print('(',count,'/',len(new_york_data),')','Schools in '+Neighborhood+', '+Borough+':'+str(len(schools)))\n    for school_detail in schools.values.tolist():\n        id, name , category=school_detail\n        schools_ny = schools_ny.append({'Borough': Borough,\n                                                'Neighborhood': Neighborhood, \n                                                'ID': id,\n                                                'Name' : name\n                                               }, ignore_index=True)\n    count+=1"
        },
        {
            "cell_type": "code",
            "execution_count": null,
            "metadata": {},
            "outputs": [],
            "source": "schools_ny.head()"
        },
        {
            "cell_type": "code",
            "execution_count": null,
            "metadata": {},
            "outputs": [],
            "source": "schools_ny.shape"
        },
        {
            "cell_type": "markdown",
            "metadata": {},
            "source": "123 schools in NY"
        },
        {
            "cell_type": "code",
            "execution_count": null,
            "metadata": {},
            "outputs": [],
            "source": "plt.figure(figsize=(9,5), dpi = 100)\n# title\nplt.title('Number of Schools for each Borough in New York City')\n#On x-axis\nplt.xlabel('Borough', fontsize = 15)\n#On y-axis\nplt.ylabel('No.of Schools', fontsize=15)\n#giving a bar plot\nschools_ny.groupby('Borough')['ID'].count().plot(kind='bar')\n#legend\nplt.legend()\n#displays the plot\nplt.show()"
        },
        {
            "cell_type": "code",
            "execution_count": null,
            "metadata": {},
            "outputs": [],
            "source": "plt.figure(figsize=(9,5), dpi = 100)\n# title\nplt.title('Number of Schools for each Neighborhood in New York City')\n#On x-axis\nplt.xlabel('Neighborhood', fontsize = 15)\n#On y-axis\nplt.ylabel('No.of School', fontsize=15)\n#giving a bar plot\nindian_rest_ny.groupby('Neighborhood')['ID'].count().nlargest(5).plot(kind='bar')\n#legend\nplt.legend()\n#displays the plot\nplt.show()"
        },
        {
            "cell_type": "code",
            "execution_count": null,
            "metadata": {},
            "outputs": [],
            "source": "schools_ny[schools_ny['Neighborhood']=='Floral Park']"
        }
    ],
    "metadata": {
        "kernelspec": {
            "display_name": "Python 3.6",
            "language": "python",
            "name": "python3"
        },
        "language_info": {
            "codemirror_mode": {
                "name": "ipython",
                "version": 3
            },
            "file_extension": ".py",
            "mimetype": "text/x-python",
            "name": "python",
            "nbconvert_exporter": "python",
            "pygments_lexer": "ipython3",
            "version": "3.6.9"
        }
    },
    "nbformat": 4,
    "nbformat_minor": 1
}